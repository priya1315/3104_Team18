{
  "cells": [
    {
      "cell_type": "markdown",
      "metadata": {
        "id": "ZI-7IKtJYIIf"
      },
      "source": [
        "[![Open In Colab](https://colab.research.google.com/assets/colab-badge.svg)](https://github.com/mayuelala/FollowYourPose/blob/main/quick_demo.ipynb)\n",
        "\n",
        "# 🕺🕺🕺 Follow Your Pose 💃💃💃:\n",
        "# Pose-Guided Text-to-Video Generation using Pose-Free Videos\n",
        "\n",
        "[Yue Ma*](https://mayuelala.github.io/), [Yingqing He*](https://github.com/YingqingHe), [Xiaodong Cun](http://vinthony.github.io/), [Xintao Wang](https://xinntao.github.io/), [Ying Shan](https://scholar.google.com/citations?hl=zh-CN&user=4oXBp9UAAAAJ), [Xiu Li](https://scholar.google.com/citations?user=Xrh1OIUAAAAJ&hl=zh-CN), and [Qifeng Chen](https://cqf.io)\n",
        "\n",
        "\n",
        "[![Project Website](https://img.shields.io/badge/Project-Website-orange)](https://follow-your-pose.github.io/)\n",
        "[![arXiv](https://img.shields.io/badge/arXiv-2304.01186-b31b1b.svg)](https://arxiv.org/abs/2304.01186)\n",
        "[![GitHub](https://img.shields.io/github/stars/mayuelala/FollowYourPose?style=social)](https://github.com/mayuelala/FollowYourPose)"
      ]
    },
    {
      "cell_type": "code",
      "execution_count": null,
      "metadata": {
        "colab": {
          "base_uri": "https://localhost:8080/"
        },
        "id": "GPBJ9ZPNWofP",
        "outputId": "08c669fd-6983-48ab-805f-31878714772c"
      },
      "outputs": [
        {
          "name": "stdout",
          "output_type": "stream",
          "text": [
            "Tesla T4, 15360 MiB, 15101 MiB\n"
          ]
        }
      ],
      "source": [
        "#@markdown Check type of GPU and VRAM available.\n",
        "!nvidia-smi --query-gpu=name,memory.total,memory.free --format=csv,noheader"
      ]
    },
    {
      "cell_type": "markdown",
      "metadata": {
        "id": "JGTUagmtwwxo"
      },
      "source": [
        "# 🕺🕺🕺 Install Environment"
      ]
    },
    {
      "cell_type": "code",
      "execution_count": null,
      "metadata": {
        "colab": {
          "base_uri": "https://localhost:8080/"
        },
        "id": "JmWCIBSnZP4l",
        "outputId": "7cbd0308-8e11-4140-8bff-58d9368d4a13"
      },
      "outputs": [
        {
          "name": "stdout",
          "output_type": "stream",
          "text": [
            "/bin/bash: python: command not found\n",
            "Hit:1 https://developer.download.nvidia.com/compute/cuda/repos/ubuntu2004/x86_64  InRelease\n",
            "Hit:2 https://cloud.r-project.org/bin/linux/ubuntu focal-cran40/ InRelease\n",
            "Hit:3 http://security.ubuntu.com/ubuntu focal-security InRelease\n",
            "Hit:4 http://ppa.launchpad.net/c2d4u.team/c2d4u4.0+/ubuntu focal InRelease\n",
            "Hit:5 http://archive.ubuntu.com/ubuntu focal InRelease\n",
            "Hit:6 http://archive.ubuntu.com/ubuntu focal-updates InRelease\n",
            "Hit:7 http://ppa.launchpad.net/cran/libgit2/ubuntu focal InRelease\n",
            "Hit:8 http://archive.ubuntu.com/ubuntu focal-backports InRelease\n",
            "Hit:9 http://ppa.launchpad.net/deadsnakes/ppa/ubuntu focal InRelease\n",
            "Hit:10 http://ppa.launchpad.net/graphics-drivers/ppa/ubuntu focal InRelease\n",
            "Hit:11 http://ppa.launchpad.net/ubuntugis/ppa/ubuntu focal InRelease\n",
            "Reading package lists... Done\n",
            "Reading package lists... Done\n",
            "Building dependency tree       \n",
            "Reading state information... Done\n",
            "software-properties-common is already the newest version (0.99.9.11).\n",
            "0 upgraded, 0 newly installed, 0 to remove and 24 not upgraded.\n",
            "3 not fully installed or removed.\n",
            "After this operation, 0 B of additional disk space will be used.\n",
            "Setting up python3-setuptools (45.2.0-1ubuntu0.1) ...\n",
            "/var/lib/dpkg/info/python3-setuptools.postinst: 6: py3compile: not found\n",
            "\u001b[1mdpkg:\u001b[0m error processing package python3-setuptools (--configure):\n",
            " installed python3-setuptools package post-installation script subprocess returned error exit status 127\n",
            "Setting up python3-wheel (0.34.2-1ubuntu0.1) ...\n",
            "/var/lib/dpkg/info/python3-wheel.postinst: 6: py3compile: not found\n",
            "\u001b[1mdpkg:\u001b[0m error processing package python3-wheel (--configure):\n",
            " installed python3-wheel package post-installation script subprocess returned error exit status 127\n",
            "\u001b[1mdpkg:\u001b[0m dependency problems prevent configuration of python3-pip:\n",
            " python3-pip depends on python3-setuptools; however:\n",
            "  Package python3-setuptools is not configured yet.\n",
            " python3-pip depends on python3-wheel; however:\n",
            "  Package python3-wheel is not configured yet.\n",
            "\n",
            "\u001b[1mdpkg:\u001b[0m error processing package python3-pip (--configure):\n",
            " dependency problems - leaving unconfigured\n",
            "Errors were encountered while processing:\n",
            " python3-setuptools\n",
            " python3-wheel\n",
            " python3-pip\n",
            "\u001b[1;31mE: \u001b[0mSub-process /usr/bin/dpkg returned an error code (1)\u001b[0m\n",
            "(Reading database ... 122713 files and directories currently installed.)\n",
            "Removing python3-pip (20.0.2-5ubuntu1.8) ...\n",
            "\u001b[1mdpkg:\u001b[0m \u001b[1;33mwarning:\u001b[0m while removing python3-pip, directory '/usr/lib/python3/dist-packages/pip/_vendor' not empty so not removed\n",
            "\u001b[1mdpkg:\u001b[0m \u001b[1;33mwarning:\u001b[0m while removing python3-pip, directory '/usr/lib/python3/dist-packages/pip/_internal/vcs' not empty so not removed\n",
            "\u001b[1mdpkg:\u001b[0m \u001b[1;33mwarning:\u001b[0m while removing python3-pip, directory '/usr/lib/python3/dist-packages/pip/_internal/utils' not empty so not removed\n",
            "\u001b[1mdpkg:\u001b[0m \u001b[1;33mwarning:\u001b[0m while removing python3-pip, directory '/usr/lib/python3/dist-packages/pip/_internal/req' not empty so not removed\n",
            "\u001b[1mdpkg:\u001b[0m \u001b[1;33mwarning:\u001b[0m while removing python3-pip, directory '/usr/lib/python3/dist-packages/pip/_internal/operations/install' not empty so not removed\n",
            "\u001b[1mdpkg:\u001b[0m \u001b[1;33mwarning:\u001b[0m while removing python3-pip, directory '/usr/lib/python3/dist-packages/pip/_internal/operations/build' not empty so not removed\n",
            "\u001b[1mdpkg:\u001b[0m \u001b[1;33mwarning:\u001b[0m while removing python3-pip, directory '/usr/lib/python3/dist-packages/pip/_internal/network' not empty so not removed\n",
            "\u001b[1mdpkg:\u001b[0m \u001b[1;33mwarning:\u001b[0m while removing python3-pip, directory '/usr/lib/python3/dist-packages/pip/_internal/models' not empty so not removed\n",
            "\u001b[1mdpkg:\u001b[0m \u001b[1;33mwarning:\u001b[0m while removing python3-pip, directory '/usr/lib/python3/dist-packages/pip/_internal/index' not empty so not removed\n",
            "\u001b[1mdpkg:\u001b[0m \u001b[1;33mwarning:\u001b[0m while removing python3-pip, directory '/usr/lib/python3/dist-packages/pip/_internal/distributions' not empty so not removed\n",
            "\u001b[1mdpkg:\u001b[0m \u001b[1;33mwarning:\u001b[0m while removing python3-pip, directory '/usr/lib/python3/dist-packages/pip/_internal/commands' not empty so not removed\n",
            "\u001b[1mdpkg:\u001b[0m \u001b[1;33mwarning:\u001b[0m while removing python3-pip, directory '/usr/lib/python3/dist-packages/pip/_internal/cli' not empty so not removed\n",
            "Removing python3-setuptools (45.2.0-1ubuntu0.1) ...\n",
            "/var/lib/dpkg/info/python3-setuptools.prerm: 6: py3clean: not found\n",
            "\u001b[1mdpkg:\u001b[0m error processing package python3-setuptools (--remove):\n",
            " installed python3-setuptools package pre-removal script subprocess returned error exit status 127\n",
            "/var/lib/dpkg/info/python3-setuptools.postinst: 6: py3compile: not found\n",
            "\u001b[1mdpkg\u001b[0m: \u001b[1;31merror while cleaning up:\u001b[0m\n",
            " installed python3-setuptools package post-installation script subprocess returned error exit status 127\n",
            "Removing python3-wheel (0.34.2-1ubuntu0.1) ...\n",
            "/var/lib/dpkg/info/python3-wheel.prerm: 6: py3clean: not found\n",
            "\u001b[1mdpkg:\u001b[0m error processing package python3-wheel (--remove):\n",
            " installed python3-wheel package pre-removal script subprocess returned error exit status 127\n",
            "Processing triggers for man-db (2.9.1-1) ...\n",
            "Errors were encountered while processing:\n",
            " python3-setuptools\n",
            " python3-wheel\n",
            "Reading package lists... Done\n",
            "Building dependency tree       \n",
            "Reading state information... Done\n",
            "The following NEW packages will be installed:\n",
            "  python3-pip\n",
            "0 upgraded, 1 newly installed, 0 to remove and 24 not upgraded.\n",
            "2 not fully installed or removed.\n",
            "Need to get 231 kB of archives.\n",
            "After this operation, 1,050 kB of additional disk space will be used.\n",
            "Get:1 http://archive.ubuntu.com/ubuntu focal-updates/universe amd64 python3-pip all 20.0.2-5ubuntu1.8 [231 kB]\n",
            "Fetched 231 kB in 1s (260 kB/s)\n",
            "Selecting previously unselected package python3-pip.\n",
            "(Reading database ... 122510 files and directories currently installed.)\n",
            "Preparing to unpack .../python3-pip_20.0.2-5ubuntu1.8_all.deb ...\n",
            "Unpacking python3-pip (20.0.2-5ubuntu1.8) ...\n",
            "Setting up python3-setuptools (45.2.0-1ubuntu0.1) ...\n",
            "/var/lib/dpkg/info/python3-setuptools.postinst: 6: py3compile: not found\n",
            "dpkg: error processing package python3-setuptools (--configure):\n",
            " installed python3-setuptools package post-installation script subprocess returned error exit status 127\n",
            "Setting up python3-wheel (0.34.2-1ubuntu0.1) ...\n",
            "/var/lib/dpkg/info/python3-wheel.postinst: 6: py3compile: not found\n",
            "dpkg: error processing package python3-wheel (--configure):\n",
            " installed python3-wheel package post-installation script subprocess returned error exit status 127\n",
            "dpkg: dependency problems prevent configuration of python3-pip:\n",
            " python3-pip depends on python3-setuptools; however:\n",
            "  Package python3-setuptools is not configured yet.\n",
            " python3-pip depends on python3-wheel; however:\n",
            "  Package python3-wheel is not configured yet.\n",
            "\n",
            "dpkg: error processing package python3-pip (--configure):\n",
            " dependency problems - leaving unconfigured\n",
            "Processing triggers for man-db (2.9.1-1) ...\n",
            "Errors were encountered while processing:\n",
            " python3-setuptools\n",
            " python3-wheel\n",
            " python3-pip\n",
            "E: Sub-process /usr/bin/dpkg returned an error code (1)\n",
            "Git clone project and install requirements...\n",
            "Cloning into 'FollowYourPose'...\n",
            "remote: Enumerating objects: 156, done.\u001b[K\n",
            "remote: Counting objects: 100% (46/46), done.\u001b[K\n",
            "remote: Compressing objects: 100% (41/41), done.\u001b[K\n",
            "remote: Total 156 (delta 11), reused 29 (delta 4), pack-reused 110\u001b[K\n",
            "Receiving objects: 100% (156/156), 233.05 MiB | 32.18 MiB/s, done.\n",
            "Resolving deltas: 100% (20/20), done.\n"
          ]
        }
      ],
      "source": [
        "!update-alternatives --install /usr/local/bin/python3 python3 /usr/bin/python3.8 2\n",
        "!update-alternatives --install /usr/local/bin/python3 python3 /usr/bin/python3.9 1\n",
        "!python --version\n",
        "!apt-get update\n",
        "!apt install software-properties-common\n",
        "!sudo dpkg --remove --force-remove-reinstreq python3-pip python3-setuptools python3-wheel\n",
        "!apt-get install python3-pip\n",
        "\n",
        "print('Git clone project and install requirements...')\n",
        "!git clone https://github.com/mayuelala/FollowYourPose.git"
      ]
    },
    {
      "cell_type": "code",
      "execution_count": null,
      "metadata": {
        "colab": {
          "base_uri": "https://localhost:8080/"
        },
        "id": "CoHtEg-aeg5C",
        "outputId": "aee0cc03-bda5-4762-dc89-24b3ce61d959"
      },
      "outputs": [
        {
          "name": "stdout",
          "output_type": "stream",
          "text": [
            "\u001b[33mWARNING: Running pip as the 'root' user can result in broken permissions and conflicting behaviour with the system package manager. It is recommended to use a virtual environment instead: https://pip.pypa.io/warnings/venv\u001b[0m\u001b[33m\n",
            "Hit:1 https://cloud.r-project.org/bin/linux/ubuntu focal-cran40/ InRelease\n",
            "Hit:2 https://developer.download.nvidia.com/compute/cuda/repos/ubuntu2004/x86_64  InRelease\n",
            "Hit:3 http://security.ubuntu.com/ubuntu focal-security InRelease\n",
            "Hit:4 http://archive.ubuntu.com/ubuntu focal InRelease\n",
            "Hit:5 http://archive.ubuntu.com/ubuntu focal-updates InRelease\n",
            "Hit:6 http://archive.ubuntu.com/ubuntu focal-backports InRelease\n",
            "Hit:7 http://ppa.launchpad.net/c2d4u.team/c2d4u4.0+/ubuntu focal InRelease\n",
            "Hit:8 http://ppa.launchpad.net/cran/libgit2/ubuntu focal InRelease\n",
            "Hit:9 http://ppa.launchpad.net/deadsnakes/ppa/ubuntu focal InRelease\n",
            "Hit:10 http://ppa.launchpad.net/graphics-drivers/ppa/ubuntu focal InRelease\n",
            "Hit:11 http://ppa.launchpad.net/ubuntugis/ppa/ubuntu focal InRelease\n",
            "Reading package lists... Done\n",
            "Building dependency tree       \n",
            "Reading state information... Done\n",
            "24 packages can be upgraded. Run 'apt list --upgradable' to see them.\n",
            "\u001b[33mWARNING: Running pip as the 'root' user can result in broken permissions and conflicting behaviour with the system package manager. It is recommended to use a virtual environment instead: https://pip.pypa.io/warnings/venv\u001b[0m\u001b[33m\n",
            "\u001b[0m"
          ]
        }
      ],
      "source": [
        "!cd /content/FollowYourPose\n",
        "!export PYTHONPATH=/content/FollowYourPose:$PYTHONPATH\n",
        "# %pip install -r requirements.txt\n",
        "!python3.8 -m pip install -q -U --pre triton\n",
        "!apt update\n",
        "!python3.8 -m pip install -q diffusers==0.11.1 torch==1.13.1 transformers==4.26.0 bitsandbytes==0.35.4 \\\n",
        "imageio-ffmpeg xformers==0.0.16  --extra-index-url https://download.pytorch.org/whl/cu113\n",
        "\n"
      ]
    },
    {
      "cell_type": "code",
      "execution_count": null,
      "metadata": {
        "colab": {
          "base_uri": "https://localhost:8080/"
        },
        "id": "1AdtyZz5hvWj",
        "outputId": "21309d40-80b8-4e09-d514-c8bc8ace1bde"
      },
      "outputs": [
        {
          "name": "stdout",
          "output_type": "stream",
          "text": [
            "/content/FollowYourPose\n",
            "Looking in indexes: https://pypi.org/simple, https://us-python.pkg.dev/colab-wheels/public/simple/\n",
            "Requirement already satisfied: absl-py==1.4.0 in /usr/local/lib/python3.8/dist-packages (from -r requirements.txt (line 1)) (1.4.0)\n",
            "Requirement already satisfied: accelerate==0.16.0 in /usr/local/lib/python3.8/dist-packages (from -r requirements.txt (line 2)) (0.16.0)\n",
            "Requirement already satisfied: aiofiles==23.1.0 in /usr/local/lib/python3.8/dist-packages (from -r requirements.txt (line 3)) (23.1.0)\n",
            "Requirement already satisfied: aiohttp==3.8.4 in /usr/local/lib/python3.8/dist-packages (from -r requirements.txt (line 4)) (3.8.4)\n",
            "Requirement already satisfied: aiosignal==1.3.1 in /usr/local/lib/python3.8/dist-packages (from -r requirements.txt (line 5)) (1.3.1)\n",
            "Requirement already satisfied: altair==4.2.2 in /usr/local/lib/python3.8/dist-packages (from -r requirements.txt (line 6)) (4.2.2)\n",
            "Requirement already satisfied: antlr4-python3-runtime==4.9.3 in /usr/local/lib/python3.8/dist-packages (from -r requirements.txt (line 7)) (4.9.3)\n",
            "Requirement already satisfied: anyio==3.6.2 in /usr/local/lib/python3.8/dist-packages (from -r requirements.txt (line 8)) (3.6.2)\n",
            "Requirement already satisfied: async-timeout==4.0.2 in /usr/local/lib/python3.8/dist-packages (from -r requirements.txt (line 9)) (4.0.2)\n",
            "Requirement already satisfied: attrs==22.2.0 in /usr/local/lib/python3.8/dist-packages (from -r requirements.txt (line 10)) (22.2.0)\n",
            "Requirement already satisfied: av==10.0.0 in /usr/local/lib/python3.8/dist-packages (from -r requirements.txt (line 11)) (10.0.0)\n",
            "Requirement already satisfied: bitsandbytes==0.35.4 in /usr/local/lib/python3.8/dist-packages (from -r requirements.txt (line 12)) (0.35.4)\n",
            "Requirement already satisfied: cachetools==5.3.0 in /usr/local/lib/python3.8/dist-packages (from -r requirements.txt (line 13)) (5.3.0)\n",
            "Requirement already satisfied: charset-normalizer==3.0.1 in /usr/local/lib/python3.8/dist-packages (from -r requirements.txt (line 14)) (3.0.1)\n",
            "Requirement already satisfied: click==8.1.3 in /usr/local/lib/python3.8/dist-packages (from -r requirements.txt (line 15)) (8.1.3)\n",
            "Requirement already satisfied: contourpy==1.0.7 in /usr/local/lib/python3.8/dist-packages (from -r requirements.txt (line 16)) (1.0.7)\n",
            "Requirement already satisfied: cycler==0.11.0 in /usr/local/lib/python3.8/dist-packages (from -r requirements.txt (line 17)) (0.11.0)\n",
            "Requirement already satisfied: decord==0.6.0 in /usr/local/lib/python3.8/dist-packages (from -r requirements.txt (line 18)) (0.6.0)\n",
            "Requirement already satisfied: diffusers==0.11.1 in /usr/local/lib/python3.8/dist-packages (from -r requirements.txt (line 19)) (0.11.1)\n",
            "Requirement already satisfied: einops==0.6.0 in /usr/local/lib/python3.8/dist-packages (from -r requirements.txt (line 20)) (0.6.0)\n",
            "Requirement already satisfied: entrypoints==0.4 in /usr/local/lib/python3.8/dist-packages (from -r requirements.txt (line 21)) (0.4)\n",
            "Requirement already satisfied: fastapi==0.95.0 in /usr/local/lib/python3.8/dist-packages (from -r requirements.txt (line 22)) (0.95.0)\n",
            "Requirement already satisfied: ffmpeg-python==0.2.0 in /usr/local/lib/python3.8/dist-packages (from -r requirements.txt (line 23)) (0.2.0)\n",
            "Requirement already satisfied: ffmpy==0.3.0 in /usr/local/lib/python3.8/dist-packages (from -r requirements.txt (line 24)) (0.3.0)\n",
            "Requirement already satisfied: filelock==3.9.0 in /usr/local/lib/python3.8/dist-packages (from -r requirements.txt (line 25)) (3.9.0)\n",
            "Requirement already satisfied: fonttools==4.39.3 in /usr/local/lib/python3.8/dist-packages (from -r requirements.txt (line 26)) (4.39.3)\n",
            "Requirement already satisfied: frozenlist==1.3.3 in /usr/local/lib/python3.8/dist-packages (from -r requirements.txt (line 27)) (1.3.3)\n",
            "Requirement already satisfied: fsspec==2023.3.0 in /usr/local/lib/python3.8/dist-packages (from -r requirements.txt (line 28)) (2023.3.0)\n",
            "Requirement already satisfied: ftfy==6.1.1 in /usr/local/lib/python3.8/dist-packages (from -r requirements.txt (line 29)) (6.1.1)\n",
            "Requirement already satisfied: future==0.18.3 in /usr/local/lib/python3.8/dist-packages (from -r requirements.txt (line 30)) (0.18.3)\n",
            "Requirement already satisfied: google-auth==2.16.1 in /usr/local/lib/python3.8/dist-packages (from -r requirements.txt (line 31)) (2.16.1)\n",
            "Requirement already satisfied: google-auth-oauthlib==0.4.6 in /usr/local/lib/python3.8/dist-packages (from -r requirements.txt (line 32)) (0.4.6)\n",
            "Requirement already satisfied: gradio==3.24.1 in /usr/local/lib/python3.8/dist-packages (from -r requirements.txt (line 33)) (3.24.1)\n",
            "Requirement already satisfied: gradio_client==0.0.7 in /usr/local/lib/python3.8/dist-packages (from -r requirements.txt (line 34)) (0.0.7)\n",
            "Requirement already satisfied: grpcio==1.51.3 in /usr/local/lib/python3.8/dist-packages (from -r requirements.txt (line 35)) (1.51.3)\n",
            "Requirement already satisfied: h11==0.14.0 in /usr/local/lib/python3.8/dist-packages (from -r requirements.txt (line 36)) (0.14.0)\n",
            "Requirement already satisfied: httpcore==0.16.3 in /usr/local/lib/python3.8/dist-packages (from -r requirements.txt (line 37)) (0.16.3)\n",
            "Requirement already satisfied: httpx==0.23.3 in /usr/local/lib/python3.8/dist-packages (from -r requirements.txt (line 38)) (0.23.3)\n",
            "Requirement already satisfied: huggingface-hub==0.13.3 in /usr/local/lib/python3.8/dist-packages (from -r requirements.txt (line 39)) (0.13.3)\n",
            "Requirement already satisfied: idna==3.4 in /usr/local/lib/python3.8/dist-packages (from -r requirements.txt (line 40)) (3.4)\n",
            "Requirement already satisfied: imageio==2.25.1 in /usr/local/lib/python3.8/dist-packages (from -r requirements.txt (line 41)) (2.25.1)\n",
            "Requirement already satisfied: importlib-metadata==6.0.0 in /usr/local/lib/python3.8/dist-packages (from -r requirements.txt (line 42)) (6.0.0)\n",
            "Requirement already satisfied: importlib-resources==5.12.0 in /usr/local/lib/python3.8/dist-packages (from -r requirements.txt (line 43)) (5.12.0)\n",
            "Requirement already satisfied: Jinja2==3.1.2 in /usr/local/lib/python3.8/dist-packages (from -r requirements.txt (line 44)) (3.1.2)\n",
            "Requirement already satisfied: jsonschema==4.17.3 in /usr/local/lib/python3.8/dist-packages (from -r requirements.txt (line 45)) (4.17.3)\n",
            "Requirement already satisfied: kiwisolver==1.4.4 in /usr/local/lib/python3.8/dist-packages (from -r requirements.txt (line 46)) (1.4.4)\n",
            "Requirement already satisfied: linkify-it-py==2.0.0 in /usr/local/lib/python3.8/dist-packages (from -r requirements.txt (line 47)) (2.0.0)\n",
            "Requirement already satisfied: Markdown==3.4.1 in /usr/local/lib/python3.8/dist-packages (from -r requirements.txt (line 48)) (3.4.1)\n",
            "Requirement already satisfied: markdown-it-py==2.2.0 in /usr/local/lib/python3.8/dist-packages (from -r requirements.txt (line 49)) (2.2.0)\n",
            "Requirement already satisfied: MarkupSafe==2.1.2 in /usr/local/lib/python3.8/dist-packages (from -r requirements.txt (line 50)) (2.1.2)\n",
            "Requirement already satisfied: matplotlib==3.7.1 in /usr/local/lib/python3.8/dist-packages (from -r requirements.txt (line 51)) (3.7.1)\n",
            "Requirement already satisfied: mdit-py-plugins==0.3.3 in /usr/local/lib/python3.8/dist-packages (from -r requirements.txt (line 52)) (0.3.3)\n",
            "Requirement already satisfied: mdurl==0.1.2 in /usr/local/lib/python3.8/dist-packages (from -r requirements.txt (line 53)) (0.1.2)\n",
            "Requirement already satisfied: modelcards==0.1.6 in /usr/local/lib/python3.8/dist-packages (from -r requirements.txt (line 54)) (0.1.6)\n",
            "Requirement already satisfied: multidict==6.0.4 in /usr/local/lib/python3.8/dist-packages (from -r requirements.txt (line 55)) (6.0.4)\n",
            "Requirement already satisfied: mypy-extensions==1.0.0 in /usr/local/lib/python3.8/dist-packages (from -r requirements.txt (line 56)) (1.0.0)\n",
            "Requirement already satisfied: numpy==1.24.2 in /usr/local/lib/python3.8/dist-packages (from -r requirements.txt (line 57)) (1.24.2)\n",
            "Requirement already satisfied: nvidia-cublas-cu11==11.10.3.66 in /usr/local/lib/python3.8/dist-packages (from -r requirements.txt (line 58)) (11.10.3.66)\n",
            "Requirement already satisfied: nvidia-cuda-nvrtc-cu11==11.7.99 in /usr/local/lib/python3.8/dist-packages (from -r requirements.txt (line 59)) (11.7.99)\n",
            "Requirement already satisfied: nvidia-cuda-runtime-cu11==11.7.99 in /usr/local/lib/python3.8/dist-packages (from -r requirements.txt (line 60)) (11.7.99)\n",
            "Requirement already satisfied: nvidia-cudnn-cu11==8.5.0.96 in /usr/local/lib/python3.8/dist-packages (from -r requirements.txt (line 61)) (8.5.0.96)\n",
            "Requirement already satisfied: oauthlib==3.2.2 in /usr/local/lib/python3.8/dist-packages (from -r requirements.txt (line 62)) (3.2.2)\n",
            "Requirement already satisfied: omegaconf==2.3.0 in /usr/local/lib/python3.8/dist-packages (from -r requirements.txt (line 63)) (2.3.0)\n",
            "Requirement already satisfied: opencv-python==4.7.0.72 in /usr/local/lib/python3.8/dist-packages (from -r requirements.txt (line 64)) (4.7.0.72)\n",
            "Requirement already satisfied: orjson==3.8.9 in /usr/local/lib/python3.8/dist-packages (from -r requirements.txt (line 65)) (3.8.9)\n",
            "Requirement already satisfied: packaging==23.0 in /usr/local/lib/python3.8/dist-packages (from -r requirements.txt (line 66)) (23.0)\n",
            "Requirement already satisfied: pandas==1.5.3 in /usr/local/lib/python3.8/dist-packages (from -r requirements.txt (line 67)) (1.5.3)\n",
            "Requirement already satisfied: Pillow==9.4.0 in /usr/local/lib/python3.8/dist-packages (from -r requirements.txt (line 68)) (9.4.0)\n",
            "Requirement already satisfied: pip==22.3.1 in /usr/local/lib/python3.8/dist-packages (from -r requirements.txt (line 69)) (22.3.1)\n",
            "Requirement already satisfied: pipdeptree==2.7.0 in /usr/local/lib/python3.8/dist-packages (from -r requirements.txt (line 70)) (2.7.0)\n",
            "Requirement already satisfied: pkgutil_resolve_name==1.3.10 in /usr/local/lib/python3.8/dist-packages (from -r requirements.txt (line 71)) (1.3.10)\n",
            "Requirement already satisfied: protobuf==4.22.0 in /usr/local/lib/python3.8/dist-packages (from -r requirements.txt (line 72)) (4.22.0)\n",
            "Requirement already satisfied: psutil==5.9.4 in /usr/local/lib/python3.8/dist-packages (from -r requirements.txt (line 73)) (5.9.4)\n",
            "Requirement already satisfied: pyasn1==0.4.8 in /usr/local/lib/python3.8/dist-packages (from -r requirements.txt (line 74)) (0.4.8)\n",
            "Requirement already satisfied: pyasn1-modules==0.2.8 in /usr/local/lib/python3.8/dist-packages (from -r requirements.txt (line 75)) (0.2.8)\n",
            "Requirement already satisfied: pydantic==1.10.7 in /usr/local/lib/python3.8/dist-packages (from -r requirements.txt (line 76)) (1.10.7)\n",
            "Requirement already satisfied: pydub==0.25.1 in /usr/local/lib/python3.8/dist-packages (from -r requirements.txt (line 77)) (0.25.1)\n",
            "Requirement already satisfied: pyparsing==3.0.9 in /usr/local/lib/python3.8/dist-packages (from -r requirements.txt (line 78)) (3.0.9)\n",
            "Requirement already satisfied: pyre-extensions==0.0.23 in /usr/local/lib/python3.8/dist-packages (from -r requirements.txt (line 79)) (0.0.23)\n",
            "Requirement already satisfied: pyrsistent==0.19.3 in /usr/local/lib/python3.8/dist-packages (from -r requirements.txt (line 80)) (0.19.3)\n",
            "Requirement already satisfied: python-dateutil==2.8.2 in /usr/local/lib/python3.8/dist-packages (from -r requirements.txt (line 81)) (2.8.2)\n",
            "Requirement already satisfied: python-multipart==0.0.6 in /usr/local/lib/python3.8/dist-packages (from -r requirements.txt (line 82)) (0.0.6)\n",
            "Requirement already satisfied: pytz==2022.7.1 in /usr/local/lib/python3.8/dist-packages (from -r requirements.txt (line 83)) (2022.7.1)\n",
            "Requirement already satisfied: PyYAML==6.0 in /usr/local/lib/python3.8/dist-packages (from -r requirements.txt (line 84)) (6.0)\n",
            "Requirement already satisfied: regex==2022.10.31 in /usr/local/lib/python3.8/dist-packages (from -r requirements.txt (line 85)) (2022.10.31)\n",
            "Requirement already satisfied: requests==2.28.2 in /usr/local/lib/python3.8/dist-packages (from -r requirements.txt (line 86)) (2.28.2)\n",
            "Requirement already satisfied: requests-oauthlib==1.3.1 in /usr/local/lib/python3.8/dist-packages (from -r requirements.txt (line 87)) (1.3.1)\n",
            "Requirement already satisfied: rfc3986==1.5.0 in /usr/local/lib/python3.8/dist-packages (from -r requirements.txt (line 88)) (1.5.0)\n",
            "Requirement already satisfied: rsa==4.9 in /usr/local/lib/python3.8/dist-packages (from -r requirements.txt (line 89)) (4.9)\n",
            "Requirement already satisfied: semantic-version==2.10.0 in /usr/local/lib/python3.8/dist-packages (from -r requirements.txt (line 90)) (2.10.0)\n",
            "Requirement already satisfied: setuptools==65.6.3 in /usr/local/lib/python3.8/dist-packages (from -r requirements.txt (line 91)) (65.6.3)\n",
            "Requirement already satisfied: six==1.16.0 in /usr/local/lib/python3.8/dist-packages (from -r requirements.txt (line 92)) (1.16.0)\n",
            "Requirement already satisfied: sniffio==1.3.0 in /usr/local/lib/python3.8/dist-packages (from -r requirements.txt (line 93)) (1.3.0)\n",
            "Requirement already satisfied: starlette==0.26.1 in /usr/local/lib/python3.8/dist-packages (from -r requirements.txt (line 94)) (0.26.1)\n",
            "Requirement already satisfied: tensorboard==2.12.0 in /usr/local/lib/python3.8/dist-packages (from -r requirements.txt (line 95)) (2.12.0)\n",
            "Requirement already satisfied: tensorboard-data-server==0.7.0 in /usr/local/lib/python3.8/dist-packages (from -r requirements.txt (line 96)) (0.7.0)\n",
            "Requirement already satisfied: tensorboard-plugin-wit==1.8.1 in /usr/local/lib/python3.8/dist-packages (from -r requirements.txt (line 97)) (1.8.1)\n",
            "Requirement already satisfied: tokenizers==0.13.2 in /usr/local/lib/python3.8/dist-packages (from -r requirements.txt (line 98)) (0.13.2)\n",
            "Requirement already satisfied: toolz==0.12.0 in /usr/local/lib/python3.8/dist-packages (from -r requirements.txt (line 99)) (0.12.0)\n",
            "Requirement already satisfied: torch==1.13.1 in /usr/local/lib/python3.8/dist-packages (from -r requirements.txt (line 100)) (1.13.1)\n",
            "Requirement already satisfied: torchvision==0.14.1 in /usr/local/lib/python3.8/dist-packages (from -r requirements.txt (line 101)) (0.14.1)\n",
            "Requirement already satisfied: tqdm==4.64.1 in /usr/local/lib/python3.8/dist-packages (from -r requirements.txt (line 102)) (4.64.1)\n",
            "Collecting transformers==4.26.1\n",
            "  Using cached transformers-4.26.1-py3-none-any.whl (6.3 MB)\n",
            "Collecting triton==1.1.1\n",
            "  Using cached triton-1.1.1-cp38-cp38-manylinux_2_17_x86_64.manylinux2014_x86_64.whl (18.2 MB)\n",
            "Requirement already satisfied: typing_extensions==4.5.0 in /usr/local/lib/python3.8/dist-packages (from -r requirements.txt (line 105)) (4.5.0)\n",
            "Requirement already satisfied: typing-inspect==0.8.0 in /usr/local/lib/python3.8/dist-packages (from -r requirements.txt (line 106)) (0.8.0)\n",
            "Requirement already satisfied: uc-micro-py==1.0.1 in /usr/local/lib/python3.8/dist-packages (from -r requirements.txt (line 107)) (1.0.1)\n",
            "Requirement already satisfied: urllib3==1.26.14 in /usr/local/lib/python3.8/dist-packages (from -r requirements.txt (line 108)) (1.26.14)\n",
            "Requirement already satisfied: uvicorn==0.21.1 in /usr/local/lib/python3.8/dist-packages (from -r requirements.txt (line 109)) (0.21.1)\n",
            "Requirement already satisfied: wcwidth==0.2.6 in /usr/local/lib/python3.8/dist-packages (from -r requirements.txt (line 110)) (0.2.6)\n",
            "Requirement already satisfied: websockets==11.0 in /usr/local/lib/python3.8/dist-packages (from -r requirements.txt (line 111)) (11.0)\n",
            "Requirement already satisfied: Werkzeug==2.2.3 in /usr/local/lib/python3.8/dist-packages (from -r requirements.txt (line 112)) (2.2.3)\n",
            "Requirement already satisfied: wheel==0.38.4 in /usr/local/lib/python3.8/dist-packages (from -r requirements.txt (line 113)) (0.38.4)\n",
            "Requirement already satisfied: xformers==0.0.16 in /usr/local/lib/python3.8/dist-packages (from -r requirements.txt (line 114)) (0.0.16)\n",
            "Requirement already satisfied: yarl==1.8.2 in /usr/local/lib/python3.8/dist-packages (from -r requirements.txt (line 115)) (1.8.2)\n",
            "Requirement already satisfied: zipp==3.14.0 in /usr/local/lib/python3.8/dist-packages (from -r requirements.txt (line 116)) (3.14.0)\n",
            "Requirement already satisfied: certifi in /usr/local/lib/python3.8/dist-packages (from httpcore==0.16.3->-r requirements.txt (line 37)) (2022.12.7)\n",
            "Installing collected packages: transformers, triton\n",
            "  Attempting uninstall: transformers\n",
            "    Found existing installation: transformers 4.26.0\n",
            "    Uninstalling transformers-4.26.0:\n",
            "      Successfully uninstalled transformers-4.26.0\n",
            "  Attempting uninstall: triton\n",
            "    Found existing installation: triton 2.0.0.post1\n",
            "    Uninstalling triton-2.0.0.post1:\n",
            "      Successfully uninstalled triton-2.0.0.post1\n",
            "Successfully installed transformers-4.26.1 triton-1.1.1\n",
            "\u001b[33mWARNING: Running pip as the 'root' user can result in broken permissions and conflicting behaviour with the system package manager. It is recommended to use a virtual environment instead: https://pip.pypa.io/warnings/venv\u001b[0m\u001b[33m\n",
            "\u001b[0m"
          ]
        }
      ],
      "source": [
        "%cd /content/FollowYourPose/\n",
        "!python3.8 -m pip install -r requirements.txt"
      ]
    },
    {
      "cell_type": "markdown",
      "metadata": {
        "id": "2ZiDSX_7w3my"
      },
      "source": [
        "# 💃💃💃 Weight"
      ]
    },
    {
      "cell_type": "code",
      "execution_count": null,
      "metadata": {
        "colab": {
          "base_uri": "https://localhost:8080/"
        },
        "id": "gFvOq34Beqcj",
        "outputId": "34fd6d71-115f-4ad3-d996-989a5bf2ddab"
      },
      "outputs": [
        {
          "name": "stdout",
          "output_type": "stream",
          "text": [
            "Error: Failed to call git rev-parse --git-dir: exit status 128 \n",
            "Git LFS initialized.\n",
            "Cloning into 'FollowYourPose_v1'...\n",
            "remote: Enumerating objects: 42, done.\u001b[K\n",
            "remote: Counting objects: 100% (42/42), done.\u001b[K\n",
            "remote: Compressing objects: 100% (40/40), done.\u001b[K\n",
            "remote: Total 42 (delta 3), reused 0 (delta 0), pack-reused 0\u001b[K\n",
            "Unpacking objects: 100% (42/42), 584.62 KiB | 5.62 MiB/s, done.\n",
            "Filtering content: 100% (9/9), 9.75 GiB | 69.26 MiB/s, done.\n",
            "mv: cannot stat '/content/FollowYourPose/FollowYourPose_v1/*': No such file or directory\n"
          ]
        }
      ],
      "source": [
        "\n",
        "%mkdir checkpoints\n",
        "!git lfs install\n",
        "!git clone https://huggingface.co/YueMafighting/FollowYourPose_v1\n",
        "%mv /content/FollowYourPose/FollowYourPose_v1/* /content/FollowYourPose/checkpoints/\n",
        "%rm -rf FollowYourPose_v1"
      ]
    },
    {
      "cell_type": "markdown",
      "metadata": {
        "id": "Kbx46ZU6znrs"
      },
      "source": [
        "# 🕺🕺🕺 Sample"
      ]
    },
    {
      "cell_type": "markdown",
      "metadata": {
        "id": "6GW8-Xz8zwnE"
      },
      "source": [
        "Due to memory of GPU, we recommend set video_length=8 in ./config/pose_sample.yaml for running successfully.\n",
        "\n",
        "Meanwhile, we should keep the skeleton frame length(./followyourpose/pipelines/pipeline_followyourpose.py:422 ) equal with video_length"
      ]
    },
    {
      "cell_type": "code",
      "execution_count": null,
      "metadata": {
        "colab": {
          "base_uri": "https://localhost:8080/"
        },
        "id": "Ikh_58SVgf47",
        "outputId": "29fd40f0-a153-4730-e88d-36d2dba1b5db"
      },
      "outputs": [
        {
          "name": "stdout",
          "output_type": "stream",
          "text": [
            "/content/FollowYourPose\n",
            "/content/FollowYourPose\n",
            "The following values were not passed to `accelerate launch` and had defaults used instead:\n",
            "\t`--num_processes` was set to a value of `1`\n",
            "\t`--num_machines` was set to a value of `1`\n",
            "\t`--mixed_precision` was set to a value of `'no'`\n",
            "\t`--dynamo_backend` was set to a value of `'no'`\n",
            "To avoid this warning pass in values for each of the problematic parameters or run `accelerate config`.\n",
            "A matching Triton is not available, some optimizations will not be enabled.\n",
            "Error caught was: module 'triton.language' has no attribute 'constexpr'\n",
            "/usr/local/lib/python3.8/dist-packages/torchvision/transforms/_functional_video.py:6: UserWarning: The 'torchvision.transforms._functional_video' module is deprecated since 0.12 and will be removed in the future. Please use the 'torchvision.transforms.functional' module instead.\n",
            "  warnings.warn(\n",
            "/usr/local/lib/python3.8/dist-packages/torchvision/transforms/_transforms_video.py:22: UserWarning: The 'torchvision.transforms._transforms_video' module is deprecated since 0.12 and will be removed in the future. Please use the 'torchvision.transforms' module instead.\n",
            "  warnings.warn(\n",
            "04/07/2023 08:27:45 - INFO - __main__ - Distributed environment: NO\n",
            "Num processes: 1\n",
            "Process index: 0\n",
            "Local process index: 0\n",
            "Device: cuda\n",
            "Mixed precision type: no\n",
            "\n",
            "{'variance_type', 'prediction_type'} was not found in config. Values will be initialized to default values.\n",
            "{'norm_num_groups'} was not found in config. Values will be initialized to default values.\n",
            "{'class_embed_type', 'num_class_embeds', 'upcast_attention', 'resnet_time_scale_shift', 'use_linear_projection', 'only_cross_attention', 'mid_block_type', 'dual_cross_attention'} was not found in config. Values will be initialized to default values.\n",
            "{'prediction_type'} was not found in config. Values will be initialized to default values.\n",
            "{'prediction_type'} was not found in config. Values will be initialized to default values.\n",
            "load from checkpoint ./checkpoints/followyourpose_checkpoint-1000\n",
            "04/07/2023 08:28:26 - INFO - accelerate.accelerator - Loading states from ./checkpoints/followyourpose_checkpoint-1000\n",
            "04/07/2023 08:28:47 - INFO - accelerate.checkpointing - All model weights loaded successfully\n",
            "04/07/2023 08:28:47 - INFO - accelerate.checkpointing - All optimizer states loaded successfully\n",
            "04/07/2023 08:28:47 - INFO - accelerate.checkpointing - All scheduler states loaded successfully\n",
            "04/07/2023 08:28:47 - INFO - accelerate.checkpointing - Could not load random states\n",
            "04/07/2023 08:28:47 - INFO - accelerate.accelerator - Loading in 0 custom states\n",
            "100% 50/50 [03:55<00:00,  4.72s/it]\n",
            "100% 50/50 [03:59<00:00,  4.79s/it]\n",
            " 10% 5/50 [00:23<03:35,  4.78s/it]"
          ]
        }
      ],
      "source": [
        "%cd /content/FollowYourPose\n",
        "!pwd\n",
        "!TORCH_DISTRIBUTED_DEBUG=DETAIL accelerate launch txt2video.py --config=\"configs/pose_sample.yaml\"  --skeleton_path=\"./pose_example/vis_ikun_pose2.mov\""
      ]
    },
    {
      "cell_type": "markdown",
      "metadata": {
        "id": "m-sw8eRt2fFa"
      },
      "source": [
        "# 💃💃💃 The videos are output into ./output/samples"
      ]
    }
  ],
  "metadata": {
    "accelerator": "GPU",
    "colab": {
      "provenance": []
    },
    "gpuClass": "standard",
    "kernelspec": {
      "display_name": "Python 3",
      "name": "python3"
    },
    "language_info": {
      "name": "python"
    }
  },
  "nbformat": 4,
  "nbformat_minor": 0
}